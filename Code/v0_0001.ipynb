{
 "cells": [
  {
   "cell_type": "markdown",
   "id": "e3b135c8",
   "metadata": {},
   "source": [
    "### Cartpole-v0\n",
    "### Double Deep Q-Network (DDQN)"
   ]
  },
  {
   "cell_type": "markdown",
   "id": "47377e37",
   "metadata": {},
   "source": [
    "### 1. Import packages"
   ]
  },
  {
   "cell_type": "code",
   "execution_count": 1,
   "id": "94cfb431",
   "metadata": {},
   "outputs": [
    {
     "data": {
      "text/plain": [
       "<matplotlib.pyplot._IonContext at 0x287d80a3490>"
      ]
     },
     "execution_count": 1,
     "metadata": {},
     "output_type": "execute_result"
    }
   ],
   "source": [
    "import os\n",
    "os.environ['KMP_DUPLICATE_LIB_OK']='True'\n",
    "\n",
    "import gym\n",
    "import numpy as np\n",
    "import torch\n",
    "import matplotlib\n",
    "\n",
    "import matplotlib.pyplot as plt\n",
    "import time\n",
    "from  torch.autograd import Variable\n",
    "from collections import deque\n",
    "\n",
    "from ddqn_agent_0 import Agent, FloatTensor\n",
    "from replay_buffer import ReplayMemory, Transition\n",
    "\n",
    "\n",
    "## set up matplotlib\n",
    "is_ipython = 'inline' in matplotlib.get_backend()\n",
    "if is_ipython:\n",
    "    from IPython import display\n",
    "plt.ion()"
   ]
  },
  {
   "cell_type": "code",
   "execution_count": 2,
   "id": "dba30740",
   "metadata": {},
   "outputs": [],
   "source": [
    "## Applying GPU\n",
    "use_cuda = torch.cuda.is_available()\n",
    "FloatTensor = torch.cuda.FloatTensor if use_cuda else torch.FloatTensor\n",
    "device = torch.device(\"cuda\" if use_cuda else \"cpu\")\n",
    "\n",
    "## Hyperparameter Definition\n",
    "BATCH_SIZE = 64  \n",
    "gamma = 0.99\n",
    "lr = 0.0001\n",
    "TARGET_UPDATE = 10\n",
    "num_episodes = 10000\n",
    "print_every = 50\n",
    "hidden_dim = 16\n",
    "min_eps = 0.01\n",
    "max_eps_episode = 200"
   ]
  },
  {
   "cell_type": "code",
   "execution_count": 3,
   "id": "c516d00b",
   "metadata": {},
   "outputs": [],
   "source": [
    "## Environment Loading\n",
    "env = gym.make('CartPole-v0')\n",
    "env = gym.wrappers.Monitor(env, directory=\"monitors\", force=True)"
   ]
  },
  {
   "cell_type": "code",
   "execution_count": 4,
   "id": "7bd1beb1",
   "metadata": {},
   "outputs": [
    {
     "name": "stdout",
     "output_type": "stream",
     "text": [
      "input_dim:  4 , output_dim:  2 , hidden_dim:  16\n",
      "threshold:  195.0\n"
     ]
    }
   ],
   "source": [
    "## Cartpole Constraints\n",
    "threshold = env.spec.reward_threshold        \n",
    "space_dim =  env.observation_space.shape[0]\n",
    "action_dim = env.action_space.n \n",
    "print('input_dim: ', space_dim, ', hidden_dim: ', hidden_dim, ', output_dim: ', action_dim, 'threshold: ', threshold)"
   ]
  },
  {
   "cell_type": "code",
   "execution_count": 5,
   "id": "94deea5d",
   "metadata": {},
   "outputs": [],
   "source": [
    "agent = Agent(space_dim, action_dim, hidden_dim, BATCH_SIZE, lr)"
   ]
  },
  {
   "cell_type": "code",
   "execution_count": 6,
   "id": "be98dceb",
   "metadata": {},
   "outputs": [],
   "source": [
    "# Further Demo Play Parameters\n",
    "def save(directory, filename):\n",
    "    torch.save(agent.q_old.state_dict(), '%s/%s_local.pth' % (directory, filename))\n",
    "    torch.save(agent.q_new.state_dict(), '%s/%s_target.pth' % (directory, filename))"
   ]
  },
  {
   "cell_type": "markdown",
   "id": "d48c13e9",
   "metadata": {},
   "source": [
    "### 2. Applying epsilon decreasing"
   ]
  },
  {
   "cell_type": "code",
   "execution_count": 7,
   "id": "cdf290d4",
   "metadata": {},
   "outputs": [],
   "source": [
    "def epsilon_decreasing(i_epsiode, max_episode, min_eps: float):\n",
    "    slope = (min_eps - 1.0) / max_episode\n",
    "    ret_eps = max(slope * i_epsiode + 1.0, min_eps)\n",
    "    return ret_eps  "
   ]
  },
  {
   "cell_type": "markdown",
   "id": "493fb066",
   "metadata": {},
   "source": [
    "### 3. Define run on episode"
   ]
  },
  {
   "cell_type": "code",
   "execution_count": 8,
   "id": "82f586f4",
   "metadata": {},
   "outputs": [],
   "source": [
    "def run_episode(env, agent, eps):\n",
    "    \"\"\"Play an epsiode and train\n",
    "    \"\"\"\n",
    "    state = env.reset()\n",
    "    done = False\n",
    "    total_reward = 0\n",
    "    \n",
    "\n",
    "    while not done:\n",
    "\n",
    "        action = agent.get_action(FloatTensor(np.array([state])), eps)\n",
    "        \n",
    "        next_state, reward, done, _ = env.step(action.item())\n",
    "\n",
    "        total_reward += reward\n",
    "\n",
    "        if done:\n",
    "            reward = -1\n",
    "                    \n",
    "        # Store the transition in memory\n",
    "        agent.rememory.push(\n",
    "                (FloatTensor(np.array([state])), \n",
    "                 action, # action is already a tensor\n",
    "                 FloatTensor(np.array([reward])), \n",
    "                 FloatTensor(np.array([next_state])), \n",
    "                 FloatTensor(np.array([done]))))\n",
    "                 \n",
    "        if len(agent.rememory) > BATCH_SIZE:\n",
    "            batch = agent.rememory.sample(BATCH_SIZE)\n",
    "            agent.learn(batch, gamma, BATCH_SIZE)\n",
    "        state = next_state\n",
    "\n",
    "    return total_reward"
   ]
  },
  {
   "cell_type": "markdown",
   "id": "2c6aa0d7",
   "metadata": {},
   "source": [
    "### 4. Training"
   ]
  },
  {
   "cell_type": "code",
   "execution_count": 9,
   "id": "5d8e480c",
   "metadata": {},
   "outputs": [
    {
     "name": "stderr",
     "output_type": "stream",
     "text": [
      "C:\\Users\\30283\\anaconda3\\lib\\site-packages\\pyglet\\image\\codecs\\wic.py:289: UserWarning: [WinError -2147417850] 无法在设置线程模式后对其加以更改。\n",
      "  warnings.warn(str(err))\n"
     ]
    },
    {
     "name": "stdout",
     "output_type": "stream",
     "text": [
      "Episode:    50 Score:  15.0  Avg.Score: 20.80, eps-greedy:  0.75 Time: 00:00:04\n",
      "Episode:   100 Score:  14.0  Avg.Score: 18.24, eps-greedy:  0.51 Time: 00:00:06\n",
      "Episode:   150 Score:  10.0  Avg.Score: 14.92, eps-greedy:  0.26 Time: 00:00:08\n",
      "Episode:   200 Score:  16.0  Avg.Score: 12.49, eps-greedy:  0.01 Time: 00:00:09\n",
      "Episode:   250 Score:  10.0  Avg.Score: 10.82, eps-greedy:  0.01 Time: 00:00:11\n",
      "Episode:   300 Score:   9.0  Avg.Score: 10.30, eps-greedy:  0.01 Time: 00:00:12\n",
      "Episode:   350 Score:   9.0  Avg.Score: 10.51, eps-greedy:  0.01 Time: 00:00:14\n",
      "Episode:   400 Score:  10.0  Avg.Score: 10.95, eps-greedy:  0.01 Time: 00:00:15\n",
      "Episode:   450 Score:  16.0  Avg.Score: 11.67, eps-greedy:  0.01 Time: 00:00:17\n",
      "Episode:   500 Score:  10.0  Avg.Score: 11.40, eps-greedy:  0.01 Time: 00:00:18\n",
      "Episode:   550 Score:  21.0  Avg.Score: 10.74, eps-greedy:  0.01 Time: 00:00:20\n",
      "Episode:   600 Score:  10.0  Avg.Score: 12.48, eps-greedy:  0.01 Time: 00:00:22\n",
      "Episode:   650 Score:   9.0  Avg.Score: 13.66, eps-greedy:  0.01 Time: 00:00:24\n",
      "Episode:   700 Score:   9.0  Avg.Score: 14.28, eps-greedy:  0.01 Time: 00:00:26\n",
      "Episode:   750 Score:  10.0  Avg.Score: 15.84, eps-greedy:  0.01 Time: 00:00:28\n",
      "Episode:   800 Score:  11.0  Avg.Score: 15.70, eps-greedy:  0.01 Time: 00:00:30\n",
      "Episode:   850 Score:  12.0  Avg.Score: 15.40, eps-greedy:  0.01 Time: 00:00:32\n",
      "Episode:   900 Score:  49.0  Avg.Score: 14.98, eps-greedy:  0.01 Time: 00:00:34\n",
      "Episode:   950 Score:  14.0  Avg.Score: 15.37, eps-greedy:  0.01 Time: 00:00:36\n",
      "Episode:  1000 Score:  10.0  Avg.Score: 18.26, eps-greedy:  0.01 Time: 00:00:39\n",
      "Episode:  1050 Score:  12.0  Avg.Score: 15.59, eps-greedy:  0.01 Time: 00:00:40\n",
      "Episode:  1100 Score:  10.0  Avg.Score: 14.08, eps-greedy:  0.01 Time: 00:00:43\n",
      "Episode:  1150 Score:  32.0  Avg.Score: 23.39, eps-greedy:  0.01 Time: 00:00:47\n",
      "Episode:  1200 Score:  40.0  Avg.Score: 27.98, eps-greedy:  0.01 Time: 00:00:50\n",
      "Episode:  1250 Score:  30.0  Avg.Score: 26.99, eps-greedy:  0.01 Time: 00:00:53\n",
      "Episode:  1300 Score:  30.0  Avg.Score: 29.75, eps-greedy:  0.01 Time: 00:00:57\n",
      "Episode:  1350 Score:  42.0  Avg.Score: 41.86, eps-greedy:  0.01 Time: 00:01:04\n",
      "Episode:  1400 Score:  96.0  Avg.Score: 66.99, eps-greedy:  0.01 Time: 00:01:14\n",
      "Episode:  1450 Score:  94.0  Avg.Score: 79.85, eps-greedy:  0.01 Time: 00:01:25\n",
      "Episode:  1500 Score:  89.0  Avg.Score: 95.10, eps-greedy:  0.01 Time: 00:01:39\n",
      "Episode:  1550 Score: 200.0  Avg.Score: 131.78, eps-greedy:  0.01 Time: 00:01:59\n",
      "Episode:  1600 Score: 141.0  Avg.Score: 157.97, eps-greedy:  0.01 Time: 00:02:20\n"
     ]
    },
    {
     "ename": "KeyboardInterrupt",
     "evalue": "",
     "output_type": "error",
     "traceback": [
      "\u001b[1;31m---------------------------------------------------------------------------\u001b[0m",
      "\u001b[1;31mKeyboardInterrupt\u001b[0m                         Traceback (most recent call last)",
      "\u001b[1;32m~\\AppData\\Local\\Temp/ipykernel_29244/1720923697.py\u001b[0m in \u001b[0;36m<module>\u001b[1;34m\u001b[0m\n\u001b[0;32m     10\u001b[0m \u001b[1;33m\u001b[0m\u001b[0m\n\u001b[0;32m     11\u001b[0m      \u001b[0meps\u001b[0m \u001b[1;33m=\u001b[0m \u001b[0mepsilon_decreasing\u001b[0m\u001b[1;33m(\u001b[0m\u001b[0mi_episode\u001b[0m\u001b[1;33m,\u001b[0m \u001b[0mmax_eps_episode\u001b[0m\u001b[1;33m,\u001b[0m \u001b[0mmin_eps\u001b[0m\u001b[1;33m)\u001b[0m\u001b[1;33m\u001b[0m\u001b[1;33m\u001b[0m\u001b[0m\n\u001b[1;32m---> 12\u001b[1;33m      \u001b[0mscore\u001b[0m \u001b[1;33m=\u001b[0m \u001b[0mrun_episode\u001b[0m\u001b[1;33m(\u001b[0m\u001b[0menv\u001b[0m\u001b[1;33m,\u001b[0m \u001b[0magent\u001b[0m\u001b[1;33m,\u001b[0m \u001b[0meps\u001b[0m\u001b[1;33m)\u001b[0m\u001b[1;33m\u001b[0m\u001b[1;33m\u001b[0m\u001b[0m\n\u001b[0m\u001b[0;32m     13\u001b[0m \u001b[1;33m\u001b[0m\u001b[0m\n\u001b[0;32m     14\u001b[0m      \u001b[0mscores_deque\u001b[0m\u001b[1;33m.\u001b[0m\u001b[0mappend\u001b[0m\u001b[1;33m(\u001b[0m\u001b[0mscore\u001b[0m\u001b[1;33m)\u001b[0m\u001b[1;33m\u001b[0m\u001b[1;33m\u001b[0m\u001b[0m\n",
      "\u001b[1;32m~\\AppData\\Local\\Temp/ipykernel_29244/3366786201.py\u001b[0m in \u001b[0;36mrun_episode\u001b[1;34m(env, agent, eps)\u001b[0m\n\u001b[0;32m     28\u001b[0m         \u001b[1;32mif\u001b[0m \u001b[0mlen\u001b[0m\u001b[1;33m(\u001b[0m\u001b[0magent\u001b[0m\u001b[1;33m.\u001b[0m\u001b[0mrememory\u001b[0m\u001b[1;33m)\u001b[0m \u001b[1;33m>\u001b[0m \u001b[0mBATCH_SIZE\u001b[0m\u001b[1;33m:\u001b[0m\u001b[1;33m\u001b[0m\u001b[1;33m\u001b[0m\u001b[0m\n\u001b[0;32m     29\u001b[0m             \u001b[0mbatch\u001b[0m \u001b[1;33m=\u001b[0m \u001b[0magent\u001b[0m\u001b[1;33m.\u001b[0m\u001b[0mrememory\u001b[0m\u001b[1;33m.\u001b[0m\u001b[0msample\u001b[0m\u001b[1;33m(\u001b[0m\u001b[0mBATCH_SIZE\u001b[0m\u001b[1;33m)\u001b[0m\u001b[1;33m\u001b[0m\u001b[1;33m\u001b[0m\u001b[0m\n\u001b[1;32m---> 30\u001b[1;33m             \u001b[0magent\u001b[0m\u001b[1;33m.\u001b[0m\u001b[0mlearn\u001b[0m\u001b[1;33m(\u001b[0m\u001b[0mbatch\u001b[0m\u001b[1;33m,\u001b[0m \u001b[0mgamma\u001b[0m\u001b[1;33m,\u001b[0m \u001b[0mBATCH_SIZE\u001b[0m\u001b[1;33m)\u001b[0m\u001b[1;33m\u001b[0m\u001b[1;33m\u001b[0m\u001b[0m\n\u001b[0m\u001b[0;32m     31\u001b[0m         \u001b[0mstate\u001b[0m \u001b[1;33m=\u001b[0m \u001b[0mnext_state\u001b[0m\u001b[1;33m\u001b[0m\u001b[1;33m\u001b[0m\u001b[0m\n\u001b[0;32m     32\u001b[0m \u001b[1;33m\u001b[0m\u001b[0m\n",
      "\u001b[1;32m~\\6885Pro\\ddqn_agent_00001.py\u001b[0m in \u001b[0;36mlearn\u001b[1;34m(self, experiences, gamma, BATCH_SIZE)\u001b[0m\n\u001b[0;32m     84\u001b[0m \u001b[1;33m\u001b[0m\u001b[0m\n\u001b[0;32m     85\u001b[0m         \u001b[0mself\u001b[0m\u001b[1;33m.\u001b[0m\u001b[0mloss\u001b[0m\u001b[1;33m(\u001b[0m\u001b[0mQ_expected\u001b[0m\u001b[1;33m,\u001b[0m \u001b[0mQ_targets\u001b[0m\u001b[1;33m.\u001b[0m\u001b[0munsqueeze\u001b[0m\u001b[1;33m(\u001b[0m\u001b[1;36m1\u001b[0m\u001b[1;33m)\u001b[0m\u001b[1;33m)\u001b[0m\u001b[1;33m.\u001b[0m\u001b[0mbackward\u001b[0m\u001b[1;33m(\u001b[0m\u001b[1;33m)\u001b[0m\u001b[1;33m\u001b[0m\u001b[1;33m\u001b[0m\u001b[0m\n\u001b[1;32m---> 86\u001b[1;33m         \u001b[0mself\u001b[0m\u001b[1;33m.\u001b[0m\u001b[0moptim\u001b[0m\u001b[1;33m.\u001b[0m\u001b[0mstep\u001b[0m\u001b[1;33m(\u001b[0m\u001b[1;33m)\u001b[0m\u001b[1;33m\u001b[0m\u001b[1;33m\u001b[0m\u001b[0m\n\u001b[0m\u001b[0;32m     87\u001b[0m \u001b[1;33m\u001b[0m\u001b[0m\n\u001b[0;32m     88\u001b[0m \u001b[1;33m\u001b[0m\u001b[0m\n",
      "\u001b[1;32m~\\anaconda3\\lib\\site-packages\\torch\\optim\\optimizer.py\u001b[0m in \u001b[0;36mwrapper\u001b[1;34m(*args, **kwargs)\u001b[0m\n\u001b[0;32m     86\u001b[0m                 \u001b[0mprofile_name\u001b[0m \u001b[1;33m=\u001b[0m \u001b[1;34m\"Optimizer.step#{}.step\"\u001b[0m\u001b[1;33m.\u001b[0m\u001b[0mformat\u001b[0m\u001b[1;33m(\u001b[0m\u001b[0mobj\u001b[0m\u001b[1;33m.\u001b[0m\u001b[0m__class__\u001b[0m\u001b[1;33m.\u001b[0m\u001b[0m__name__\u001b[0m\u001b[1;33m)\u001b[0m\u001b[1;33m\u001b[0m\u001b[1;33m\u001b[0m\u001b[0m\n\u001b[0;32m     87\u001b[0m                 \u001b[1;32mwith\u001b[0m \u001b[0mtorch\u001b[0m\u001b[1;33m.\u001b[0m\u001b[0mautograd\u001b[0m\u001b[1;33m.\u001b[0m\u001b[0mprofiler\u001b[0m\u001b[1;33m.\u001b[0m\u001b[0mrecord_function\u001b[0m\u001b[1;33m(\u001b[0m\u001b[0mprofile_name\u001b[0m\u001b[1;33m)\u001b[0m\u001b[1;33m:\u001b[0m\u001b[1;33m\u001b[0m\u001b[1;33m\u001b[0m\u001b[0m\n\u001b[1;32m---> 88\u001b[1;33m                     \u001b[1;32mreturn\u001b[0m \u001b[0mfunc\u001b[0m\u001b[1;33m(\u001b[0m\u001b[1;33m*\u001b[0m\u001b[0margs\u001b[0m\u001b[1;33m,\u001b[0m \u001b[1;33m**\u001b[0m\u001b[0mkwargs\u001b[0m\u001b[1;33m)\u001b[0m\u001b[1;33m\u001b[0m\u001b[1;33m\u001b[0m\u001b[0m\n\u001b[0m\u001b[0;32m     89\u001b[0m             \u001b[1;32mreturn\u001b[0m \u001b[0mwrapper\u001b[0m\u001b[1;33m\u001b[0m\u001b[1;33m\u001b[0m\u001b[0m\n\u001b[0;32m     90\u001b[0m \u001b[1;33m\u001b[0m\u001b[0m\n",
      "\u001b[1;32m~\\anaconda3\\lib\\site-packages\\torch\\autograd\\grad_mode.py\u001b[0m in \u001b[0;36mdecorate_context\u001b[1;34m(*args, **kwargs)\u001b[0m\n\u001b[0;32m     26\u001b[0m         \u001b[1;32mdef\u001b[0m \u001b[0mdecorate_context\u001b[0m\u001b[1;33m(\u001b[0m\u001b[1;33m*\u001b[0m\u001b[0margs\u001b[0m\u001b[1;33m,\u001b[0m \u001b[1;33m**\u001b[0m\u001b[0mkwargs\u001b[0m\u001b[1;33m)\u001b[0m\u001b[1;33m:\u001b[0m\u001b[1;33m\u001b[0m\u001b[1;33m\u001b[0m\u001b[0m\n\u001b[0;32m     27\u001b[0m             \u001b[1;32mwith\u001b[0m \u001b[0mself\u001b[0m\u001b[1;33m.\u001b[0m\u001b[0m__class__\u001b[0m\u001b[1;33m(\u001b[0m\u001b[1;33m)\u001b[0m\u001b[1;33m:\u001b[0m\u001b[1;33m\u001b[0m\u001b[1;33m\u001b[0m\u001b[0m\n\u001b[1;32m---> 28\u001b[1;33m                 \u001b[1;32mreturn\u001b[0m \u001b[0mfunc\u001b[0m\u001b[1;33m(\u001b[0m\u001b[1;33m*\u001b[0m\u001b[0margs\u001b[0m\u001b[1;33m,\u001b[0m \u001b[1;33m**\u001b[0m\u001b[0mkwargs\u001b[0m\u001b[1;33m)\u001b[0m\u001b[1;33m\u001b[0m\u001b[1;33m\u001b[0m\u001b[0m\n\u001b[0m\u001b[0;32m     29\u001b[0m         \u001b[1;32mreturn\u001b[0m \u001b[0mcast\u001b[0m\u001b[1;33m(\u001b[0m\u001b[0mF\u001b[0m\u001b[1;33m,\u001b[0m \u001b[0mdecorate_context\u001b[0m\u001b[1;33m)\u001b[0m\u001b[1;33m\u001b[0m\u001b[1;33m\u001b[0m\u001b[0m\n\u001b[0;32m     30\u001b[0m \u001b[1;33m\u001b[0m\u001b[0m\n",
      "\u001b[1;32m~\\anaconda3\\lib\\site-packages\\torch\\optim\\adam.py\u001b[0m in \u001b[0;36mstep\u001b[1;34m(self, closure)\u001b[0m\n\u001b[0;32m    131\u001b[0m                     \u001b[0mstate_steps\u001b[0m\u001b[1;33m.\u001b[0m\u001b[0mappend\u001b[0m\u001b[1;33m(\u001b[0m\u001b[0mstate\u001b[0m\u001b[1;33m[\u001b[0m\u001b[1;34m'step'\u001b[0m\u001b[1;33m]\u001b[0m\u001b[1;33m)\u001b[0m\u001b[1;33m\u001b[0m\u001b[1;33m\u001b[0m\u001b[0m\n\u001b[0;32m    132\u001b[0m \u001b[1;33m\u001b[0m\u001b[0m\n\u001b[1;32m--> 133\u001b[1;33m             F.adam(params_with_grad,\n\u001b[0m\u001b[0;32m    134\u001b[0m                    \u001b[0mgrads\u001b[0m\u001b[1;33m,\u001b[0m\u001b[1;33m\u001b[0m\u001b[1;33m\u001b[0m\u001b[0m\n\u001b[0;32m    135\u001b[0m                    \u001b[0mexp_avgs\u001b[0m\u001b[1;33m,\u001b[0m\u001b[1;33m\u001b[0m\u001b[1;33m\u001b[0m\u001b[0m\n",
      "\u001b[1;32m~\\anaconda3\\lib\\site-packages\\torch\\optim\\_functional.py\u001b[0m in \u001b[0;36madam\u001b[1;34m(params, grads, exp_avgs, exp_avg_sqs, max_exp_avg_sqs, state_steps, amsgrad, beta1, beta2, lr, weight_decay, eps)\u001b[0m\n\u001b[0;32m     84\u001b[0m \u001b[1;33m\u001b[0m\u001b[0m\n\u001b[0;32m     85\u001b[0m         \u001b[1;31m# Decay the first and second moment running average coefficient\u001b[0m\u001b[1;33m\u001b[0m\u001b[1;33m\u001b[0m\u001b[0m\n\u001b[1;32m---> 86\u001b[1;33m         \u001b[0mexp_avg\u001b[0m\u001b[1;33m.\u001b[0m\u001b[0mmul_\u001b[0m\u001b[1;33m(\u001b[0m\u001b[0mbeta1\u001b[0m\u001b[1;33m)\u001b[0m\u001b[1;33m.\u001b[0m\u001b[0madd_\u001b[0m\u001b[1;33m(\u001b[0m\u001b[0mgrad\u001b[0m\u001b[1;33m,\u001b[0m \u001b[0malpha\u001b[0m\u001b[1;33m=\u001b[0m\u001b[1;36m1\u001b[0m \u001b[1;33m-\u001b[0m \u001b[0mbeta1\u001b[0m\u001b[1;33m)\u001b[0m\u001b[1;33m\u001b[0m\u001b[1;33m\u001b[0m\u001b[0m\n\u001b[0m\u001b[0;32m     87\u001b[0m         \u001b[0mexp_avg_sq\u001b[0m\u001b[1;33m.\u001b[0m\u001b[0mmul_\u001b[0m\u001b[1;33m(\u001b[0m\u001b[0mbeta2\u001b[0m\u001b[1;33m)\u001b[0m\u001b[1;33m.\u001b[0m\u001b[0maddcmul_\u001b[0m\u001b[1;33m(\u001b[0m\u001b[0mgrad\u001b[0m\u001b[1;33m,\u001b[0m \u001b[0mgrad\u001b[0m\u001b[1;33m.\u001b[0m\u001b[0mconj\u001b[0m\u001b[1;33m(\u001b[0m\u001b[1;33m)\u001b[0m\u001b[1;33m,\u001b[0m \u001b[0mvalue\u001b[0m\u001b[1;33m=\u001b[0m\u001b[1;36m1\u001b[0m \u001b[1;33m-\u001b[0m \u001b[0mbeta2\u001b[0m\u001b[1;33m)\u001b[0m\u001b[1;33m\u001b[0m\u001b[1;33m\u001b[0m\u001b[0m\n\u001b[0;32m     88\u001b[0m         \u001b[1;32mif\u001b[0m \u001b[0mamsgrad\u001b[0m\u001b[1;33m:\u001b[0m\u001b[1;33m\u001b[0m\u001b[1;33m\u001b[0m\u001b[0m\n",
      "\u001b[1;31mKeyboardInterrupt\u001b[0m: "
     ]
    }
   ],
   "source": [
    "## Training Process\n",
    "avg_scores_array = []  \n",
    "scores_var_array = []\n",
    "scores_array = []\n",
    "scores_deque = deque(maxlen=100) \n",
    "    \n",
    "time_start = time.time()\n",
    "\n",
    "for i_episode in range(num_episodes):\n",
    "    \n",
    "     eps = epsilon_decreasing(i_episode, max_eps_episode, min_eps)\n",
    "     score = run_episode(env, agent, eps)\n",
    "\n",
    "     scores_deque.append(score)\n",
    "     scores_array.append(score)\n",
    "        \n",
    "     avg_score = np.mean(scores_deque)\n",
    "     avg_scores_array.append(avg_score)\n",
    "        \n",
    "     scores_var = np.var(scores_deque)\n",
    "     scores_var_array.append(scores_var) \n",
    "\n",
    "     dt = (int)(time.time() - time_start)\n",
    "            \n",
    "     if i_episode % print_every == 0 and i_episode > 0:\n",
    "         \n",
    "          print('Episode: {:5} Score: {:5}  Avg.Score: {:.2f}, eps-greedy: {:5.2f} Time: {:02}:{:02}:{:02}'.\\\n",
    "                    format(i_episode, score, avg_score, eps, dt//3600, dt%3600//60, dt%60))\n",
    "            \n",
    "     if len(scores_deque) == scores_deque.maxlen:      \n",
    "            ### 195.0: for cartpole-v0 and 475 for v1\n",
    "        if np.mean(scores_deque) >= threshold: \n",
    "            print('\\n Environment solved in {:d} episodes!\\tAverage Score: {:.2f}'. \\\n",
    "                    format(i_episode, np.mean(scores_deque)))\n",
    "            break\n",
    "\n",
    "                        \n",
    "     if i_episode % TARGET_UPDATE == 0:\n",
    "          agent.q_new.load_state_dict(agent.q_old.state_dict()) \n",
    "    \n",
    "agent.q_new.load_state_dict(agent.q_old.state_dict())\n",
    "\n",
    "scores = scores_array\n",
    "avg_scores = avg_scores_array\n",
    "scores_var = scores_var_array"
   ]
  },
  {
   "cell_type": "markdown",
   "id": "e5aa5c88",
   "metadata": {},
   "source": [
    "### 5.Plot"
   ]
  },
  {
   "cell_type": "code",
   "execution_count": null,
   "id": "783ec8ac",
   "metadata": {},
   "outputs": [],
   "source": [
    "import matplotlib.pyplot as plt\n",
    "%matplotlib inline\n",
    "\n",
    "print('length of scores: ', len(scores), ', len of avg_scores: ', len(avg_scores))\n",
    "\n",
    "fig = plt.figure()\n",
    "ax = fig.add_subplot(111)\n",
    "plt.plot(np.arange(1, len(scores)+1), scores, label=\"Score\")\n",
    "plt.plot(np.arange(1, len(avg_scores)+1), avg_scores, label=\"Avg on 100 episodes\")\n",
    "plt.legend(bbox_to_anchor=(1.05, 1)) \n",
    "plt.ylabel('Score')\n",
    "plt.xlabel('Episodes #')\n",
    "plt.show()"
   ]
  },
  {
   "cell_type": "markdown",
   "id": "8fd5c708",
   "metadata": {},
   "source": [
    "### 6.Save model"
   ]
  },
  {
   "cell_type": "code",
   "execution_count": null,
   "id": "5f997210",
   "metadata": {},
   "outputs": [],
   "source": [
    "#save('dir_chk_V0_ddqn', 'cartpole-v0-ddqn-239epis')"
   ]
  }
 ],
 "metadata": {
  "kernelspec": {
   "display_name": "Python 3 (ipykernel)",
   "language": "python",
   "name": "python3"
  },
  "language_info": {
   "codemirror_mode": {
    "name": "ipython",
    "version": 3
   },
   "file_extension": ".py",
   "mimetype": "text/x-python",
   "name": "python",
   "nbconvert_exporter": "python",
   "pygments_lexer": "ipython3",
   "version": "3.9.7"
  }
 },
 "nbformat": 4,
 "nbformat_minor": 5
}
